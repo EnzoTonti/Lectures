{
 "cells": [
  {
   "cell_type": "markdown",
   "metadata": {},
   "source": [
    "## Distance between a point and a line\n",
    "\n",
    "Given a line r passing through two points A and B and assigned a point P, \n",
    "this function determines the projection of P on the line, evaluates its\n",
    "distance from the line and it indicates whether the projection is internal \n",
    "to the segment AB."
   ]
  },
  {
   "cell_type": "code",
   "execution_count": 1,
   "metadata": {
    "collapsed": false,
    "scrolled": true
   },
   "outputs": [
    {
     "name": "stdout",
     "output_type": "stream",
     "text": [
      "Populating the interactive namespace from numpy and matplotlib\n"
     ]
    }
   ],
   "source": [
    "%pylab inline"
   ]
  },
  {
   "cell_type": "code",
   "execution_count": 2,
   "metadata": {
    "collapsed": true
   },
   "outputs": [],
   "source": [
    "import mathlab"
   ]
  },
  {
   "cell_type": "markdown",
   "metadata": {},
   "source": [
    "importing the Math and Physics Lab project"
   ]
  },
  {
   "cell_type": "markdown",
   "metadata": {},
   "source": [
    "equation describing a line between two points A-B:\n",
    "$$x = x_{\\mathrm{A}} + s * (x_{\\mathrm{B}} - x_{\\mathrm{A}})$$\n",
    "$$y = y_{\\mathrm{A}} + s * (y_{\\mathrm{B}} - y_{\\mathrm{A}})$$\n",
    "\n",
    "with: $$0 \\leq s \\leq 1$$\n",
    "    \n",
    "equation of a line passing through P and orthogonal to A-B:\n",
    "$$x = x_{\\mathrm{P}} + t * sin$$\n",
    "$$y = y_{\\mathrm{P}} + t * cos$$\n",
    "\n",
    "with:\n",
    "$$sin = (y_{\\mathrm{B}} - y_{\\mathrm{A}})/L$$\n",
    "$$cos = (x_{\\mathrm{B}} - x_{\\mathrm{A}})/L$$\n",
    "\n",
    "and\n",
    "\n",
    "$$L = \\sqrt{(x_{\\mathrm{B}} - x_{\\mathrm{A}})^2 + (y_{\\mathrm{B}} - y_{\\mathrm{A}})^2 }$$\n",
    "\n",
    "instersection between the two line:\n",
    "$$x_{\\mathrm{A}} + s * (x_{\\mathrm{B}} - x_{\\mathrm{A}}) = x_{\\mathrm{P}} + t * sin$$\n",
    "$$y_{\\mathrm{A}} + s * (y_{\\mathrm{B}} - y_{\\mathrm{A}}) = y_{\\mathrm{P}} - t * cos$$\n",
    "\n",
    "system of equation:\n",
    "$$s * (x_{\\mathrm{B}} - x_{\\mathrm{A}}) - t * sin = x_{\\mathrm{P}} -  x_{\\mathrm{A}}$$\n",
    "$$s * (y_{\\mathrm{B}} - y_{\\mathrm{A}}) + t * cos = y_{\\mathrm{P}} -  y_{\\mathrm{A}}$$\n",
    "\n",
    "\n",
    "$$x_{\\mathrm{A}} = 0; y_{\\mathrm{A}} = 0; x_{\\mathrm{B}} = 100; y_{\\mathrm{B}} = 110; x_{\\mathrm{P}} = 70; y_{\\mathrm{P}} = 22$$"
   ]
  },
  {
   "cell_type": "code",
   "execution_count": 4,
   "metadata": {
    "collapsed": false,
    "scrolled": true
   },
   "outputs": [
    {
     "name": "stdout",
     "output_type": "stream",
     "text": [
      "projection point:  46.0 46.0\n",
      "distance:  -33.941125497\n"
     ]
    },
    {
     "data": {
      "image/png": "[encoded data removed]",
      "text/plain": [
       "<matplotlib.figure.Figure at 0x7fde13404910>"
      ]
     },
     "metadata": {},
     "output_type": "display_data"
    }
   ],
   "source": [
    "result = mathlab.point_line(0, 0, 100, 100, 70, 22)"
   ]
  },
  {
   "cell_type": "code",
   "execution_count": null,
   "metadata": {
    "collapsed": true
   },
   "outputs": [],
   "source": []
  }
 ],
 "metadata": {
  "kernelspec": {
   "display_name": "Python 2",
   "language": "python",
   "name": "python2"
  },
  "language_info": {
   "codemirror_mode": {
    "name": "ipython",
    "version": 2
   },
   "file_extension": ".py",
   "mimetype": "text/x-python",
   "name": "python",
   "nbconvert_exporter": "python",
   "pygments_lexer": "ipython2",
   "version": "2.7.11"
  }
 },
 "nbformat": 4,
 "nbformat_minor": 0
}
